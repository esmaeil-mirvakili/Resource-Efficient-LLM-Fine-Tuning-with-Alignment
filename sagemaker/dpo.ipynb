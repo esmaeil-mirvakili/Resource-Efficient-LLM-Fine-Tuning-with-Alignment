{
 "cells": [
  {
   "cell_type": "code",
   "execution_count": 1,
   "id": "5b64f020-95cd-45b7-b5e5-aa2daef8d21b",
   "metadata": {
    "execution": {
     "iopub.execute_input": "2025-09-14T19:35:18.351186Z",
     "iopub.status.busy": "2025-09-14T19:35:18.350385Z",
     "iopub.status.idle": "2025-09-14T19:35:25.435887Z",
     "shell.execute_reply": "2025-09-14T19:35:25.435020Z",
     "shell.execute_reply.started": "2025-09-14T19:35:18.351153Z"
    }
   },
   "outputs": [
    {
     "name": "stdout",
     "output_type": "stream",
     "text": [
      "Requirement already satisfied: sagemaker in /opt/conda/lib/python3.12/site-packages (2.244.0)\n",
      "Collecting sagemaker\n",
      "  Using cached sagemaker-2.251.1-py3-none-any.whl.metadata (17 kB)\n",
      "Collecting attrs<26,>=24 (from sagemaker)\n",
      "  Using cached attrs-25.3.0-py3-none-any.whl.metadata (10 kB)\n",
      "Collecting boto3<2.0,>=1.39.5 (from sagemaker)\n",
      "  Using cached boto3-1.40.30-py3-none-any.whl.metadata (6.7 kB)\n",
      "Requirement already satisfied: cloudpickle>=2.2.1 in /opt/conda/lib/python3.12/site-packages (from sagemaker) (3.1.1)\n",
      "Requirement already satisfied: docker in /opt/conda/lib/python3.12/site-packages (from sagemaker) (7.1.0)\n",
      "Requirement already satisfied: fastapi in /opt/conda/lib/python3.12/site-packages (from sagemaker) (0.115.12)\n",
      "Requirement already satisfied: google-pasta in /opt/conda/lib/python3.12/site-packages (from sagemaker) (0.2.0)\n",
      "Requirement already satisfied: graphene<4,>=3 in /opt/conda/lib/python3.12/site-packages (from sagemaker) (3.4.3)\n",
      "Requirement already satisfied: importlib-metadata<7.0,>=1.4.0 in /opt/conda/lib/python3.12/site-packages (from sagemaker) (6.10.0)\n",
      "Requirement already satisfied: jsonschema in /opt/conda/lib/python3.12/site-packages (from sagemaker) (4.23.0)\n",
      "Requirement already satisfied: numpy==1.26.4 in /opt/conda/lib/python3.12/site-packages (from sagemaker) (1.26.4)\n",
      "Requirement already satisfied: omegaconf<3,>=2.2 in /opt/conda/lib/python3.12/site-packages (from sagemaker) (2.3.0)\n",
      "Requirement already satisfied: packaging<25,>=23.0 in /opt/conda/lib/python3.12/site-packages (from sagemaker) (24.2)\n",
      "Requirement already satisfied: pandas in /opt/conda/lib/python3.12/site-packages (from sagemaker) (2.2.3)\n",
      "Requirement already satisfied: pathos in /opt/conda/lib/python3.12/site-packages (from sagemaker) (0.3.4)\n",
      "Requirement already satisfied: platformdirs in /opt/conda/lib/python3.12/site-packages (from sagemaker) (4.3.8)\n",
      "Requirement already satisfied: protobuf<6.32,>=3.12 in /opt/conda/lib/python3.12/site-packages (from sagemaker) (5.28.3)\n",
      "Requirement already satisfied: psutil in /opt/conda/lib/python3.12/site-packages (from sagemaker) (5.9.8)\n",
      "Requirement already satisfied: pyyaml>=6.0.1 in /opt/conda/lib/python3.12/site-packages (from sagemaker) (6.0.2)\n",
      "Requirement already satisfied: requests in /opt/conda/lib/python3.12/site-packages (from sagemaker) (2.32.3)\n",
      "Requirement already satisfied: sagemaker-core<2.0.0,>=1.0.17 in /opt/conda/lib/python3.12/site-packages (from sagemaker) (1.0.33)\n",
      "Requirement already satisfied: schema in /opt/conda/lib/python3.12/site-packages (from sagemaker) (0.7.7)\n",
      "Requirement already satisfied: smdebug-rulesconfig==1.0.1 in /opt/conda/lib/python3.12/site-packages (from sagemaker) (1.0.1)\n",
      "Requirement already satisfied: tblib<4,>=1.7.0 in /opt/conda/lib/python3.12/site-packages (from sagemaker) (3.1.0)\n",
      "Requirement already satisfied: tqdm in /opt/conda/lib/python3.12/site-packages (from sagemaker) (4.67.1)\n",
      "Requirement already satisfied: urllib3<3.0.0,>=1.26.8 in /opt/conda/lib/python3.12/site-packages (from sagemaker) (1.26.19)\n",
      "Requirement already satisfied: uvicorn in /opt/conda/lib/python3.12/site-packages (from sagemaker) (0.34.2)\n",
      "Collecting botocore<1.41.0,>=1.40.30 (from boto3<2.0,>=1.39.5->sagemaker)\n",
      "  Using cached botocore-1.40.30-py3-none-any.whl.metadata (5.7 kB)\n",
      "Requirement already satisfied: jmespath<2.0.0,>=0.7.1 in /opt/conda/lib/python3.12/site-packages (from boto3<2.0,>=1.39.5->sagemaker) (1.0.1)\n",
      "Collecting s3transfer<0.15.0,>=0.14.0 (from boto3<2.0,>=1.39.5->sagemaker)\n",
      "  Using cached s3transfer-0.14.0-py3-none-any.whl.metadata (1.7 kB)\n",
      "Requirement already satisfied: python-dateutil<3.0.0,>=2.1 in /opt/conda/lib/python3.12/site-packages (from botocore<1.41.0,>=1.40.30->boto3<2.0,>=1.39.5->sagemaker) (2.9.0.post0)\n",
      "Requirement already satisfied: graphql-core<3.3,>=3.1 in /opt/conda/lib/python3.12/site-packages (from graphene<4,>=3->sagemaker) (3.2.6)\n",
      "Requirement already satisfied: graphql-relay<3.3,>=3.1 in /opt/conda/lib/python3.12/site-packages (from graphene<4,>=3->sagemaker) (3.2.0)\n",
      "Requirement already satisfied: typing-extensions<5,>=4.7.1 in /opt/conda/lib/python3.12/site-packages (from graphene<4,>=3->sagemaker) (4.13.2)\n",
      "Requirement already satisfied: zipp>=0.5 in /opt/conda/lib/python3.12/site-packages (from importlib-metadata<7.0,>=1.4.0->sagemaker) (3.21.0)\n",
      "Requirement already satisfied: antlr4-python3-runtime==4.9.* in /opt/conda/lib/python3.12/site-packages (from omegaconf<3,>=2.2->sagemaker) (4.9.3)\n",
      "Requirement already satisfied: six>=1.5 in /opt/conda/lib/python3.12/site-packages (from python-dateutil<3.0.0,>=2.1->botocore<1.41.0,>=1.40.30->boto3<2.0,>=1.39.5->sagemaker) (1.17.0)\n",
      "Requirement already satisfied: pydantic<3.0.0,>=2.0.0 in /opt/conda/lib/python3.12/site-packages (from sagemaker-core<2.0.0,>=1.0.17->sagemaker) (2.11.4)\n",
      "Requirement already satisfied: rich<15.0.0,>=14.0.0 in /opt/conda/lib/python3.12/site-packages (from sagemaker-core<2.0.0,>=1.0.17->sagemaker) (14.0.0)\n",
      "Requirement already satisfied: mock<5.0,>4.0 in /opt/conda/lib/python3.12/site-packages (from sagemaker-core<2.0.0,>=1.0.17->sagemaker) (4.0.3)\n",
      "Requirement already satisfied: jsonschema-specifications>=2023.03.6 in /opt/conda/lib/python3.12/site-packages (from jsonschema->sagemaker) (2025.4.1)\n",
      "Requirement already satisfied: referencing>=0.28.4 in /opt/conda/lib/python3.12/site-packages (from jsonschema->sagemaker) (0.36.2)\n",
      "Requirement already satisfied: rpds-py>=0.7.1 in /opt/conda/lib/python3.12/site-packages (from jsonschema->sagemaker) (0.24.0)\n",
      "Requirement already satisfied: annotated-types>=0.6.0 in /opt/conda/lib/python3.12/site-packages (from pydantic<3.0.0,>=2.0.0->sagemaker-core<2.0.0,>=1.0.17->sagemaker) (0.7.0)\n",
      "Requirement already satisfied: pydantic-core==2.33.2 in /opt/conda/lib/python3.12/site-packages (from pydantic<3.0.0,>=2.0.0->sagemaker-core<2.0.0,>=1.0.17->sagemaker) (2.33.2)\n",
      "Requirement already satisfied: typing-inspection>=0.4.0 in /opt/conda/lib/python3.12/site-packages (from pydantic<3.0.0,>=2.0.0->sagemaker-core<2.0.0,>=1.0.17->sagemaker) (0.4.0)\n",
      "Requirement already satisfied: markdown-it-py>=2.2.0 in /opt/conda/lib/python3.12/site-packages (from rich<15.0.0,>=14.0.0->sagemaker-core<2.0.0,>=1.0.17->sagemaker) (3.0.0)\n",
      "Requirement already satisfied: pygments<3.0.0,>=2.13.0 in /opt/conda/lib/python3.12/site-packages (from rich<15.0.0,>=14.0.0->sagemaker-core<2.0.0,>=1.0.17->sagemaker) (2.19.1)\n",
      "Requirement already satisfied: mdurl~=0.1 in /opt/conda/lib/python3.12/site-packages (from markdown-it-py>=2.2.0->rich<15.0.0,>=14.0.0->sagemaker-core<2.0.0,>=1.0.17->sagemaker) (0.1.2)\n",
      "Requirement already satisfied: charset_normalizer<4,>=2 in /opt/conda/lib/python3.12/site-packages (from requests->sagemaker) (3.4.2)\n",
      "Requirement already satisfied: idna<4,>=2.5 in /opt/conda/lib/python3.12/site-packages (from requests->sagemaker) (3.10)\n",
      "Requirement already satisfied: certifi>=2017.4.17 in /opt/conda/lib/python3.12/site-packages (from requests->sagemaker) (2025.4.26)\n",
      "Requirement already satisfied: starlette<0.47.0,>=0.40.0 in /opt/conda/lib/python3.12/site-packages (from fastapi->sagemaker) (0.46.2)\n",
      "Requirement already satisfied: anyio<5,>=3.6.2 in /opt/conda/lib/python3.12/site-packages (from starlette<0.47.0,>=0.40.0->fastapi->sagemaker) (4.9.0)\n",
      "Requirement already satisfied: sniffio>=1.1 in /opt/conda/lib/python3.12/site-packages (from anyio<5,>=3.6.2->starlette<0.47.0,>=0.40.0->fastapi->sagemaker) (1.3.1)\n",
      "Requirement already satisfied: pytz>=2020.1 in /opt/conda/lib/python3.12/site-packages (from pandas->sagemaker) (2024.2)\n",
      "Requirement already satisfied: tzdata>=2022.7 in /opt/conda/lib/python3.12/site-packages (from pandas->sagemaker) (2025.2)\n",
      "Requirement already satisfied: ppft>=1.7.7 in /opt/conda/lib/python3.12/site-packages (from pathos->sagemaker) (1.7.7)\n",
      "Requirement already satisfied: dill>=0.4.0 in /opt/conda/lib/python3.12/site-packages (from pathos->sagemaker) (0.4.0)\n",
      "Requirement already satisfied: pox>=0.3.6 in /opt/conda/lib/python3.12/site-packages (from pathos->sagemaker) (0.3.6)\n",
      "Requirement already satisfied: multiprocess>=0.70.18 in /opt/conda/lib/python3.12/site-packages (from pathos->sagemaker) (0.70.18)\n",
      "Requirement already satisfied: click>=7.0 in /opt/conda/lib/python3.12/site-packages (from uvicorn->sagemaker) (8.1.8)\n",
      "Requirement already satisfied: h11>=0.8 in /opt/conda/lib/python3.12/site-packages (from uvicorn->sagemaker) (0.16.0)\n",
      "Using cached sagemaker-2.251.1-py3-none-any.whl (1.7 MB)\n",
      "Using cached attrs-25.3.0-py3-none-any.whl (63 kB)\n",
      "Using cached boto3-1.40.30-py3-none-any.whl (139 kB)\n",
      "Using cached botocore-1.40.30-py3-none-any.whl (14.0 MB)\n",
      "Using cached s3transfer-0.14.0-py3-none-any.whl (85 kB)\n",
      "Installing collected packages: attrs, botocore, s3transfer, boto3, sagemaker\n",
      "\u001b[2K  Attempting uninstall: attrs\n",
      "\u001b[2K    Found existing installation: attrs 23.2.0\n",
      "\u001b[2K    Uninstalling attrs-23.2.0:\n",
      "\u001b[2K      Successfully uninstalled attrs-23.2.0\n",
      "\u001b[2K  Attempting uninstall: botocore\n",
      "\u001b[2K    Found existing installation: botocore 1.37.1\n",
      "\u001b[2K    Uninstalling botocore-1.37.1:0m━━━━━━━━━━━━━━━━━━━━━━━━━━━━━━━\u001b[0m \u001b[32m1/5\u001b[0m [botocore]\n",
      "\u001b[2K      Successfully uninstalled botocore-1.37.1━━━━━━━━━━━━━━━━\u001b[0m \u001b[32m1/5\u001b[0m [botocore]\n",
      "\u001b[2K  Attempting uninstall: s3transferm━━━━━━━━━━━━━━━━━━━━━━━━━━━━━━━\u001b[0m \u001b[32m1/5\u001b[0m [botocore]\n",
      "\u001b[2K    Found existing installation: s3transfer 0.11.3━━━━━━━━━━━━\u001b[0m \u001b[32m1/5\u001b[0m [botocore]\n",
      "\u001b[2K    Uninstalling s3transfer-0.11.3:━━━━━━━━━━━━━━━━━━━━━━━━━━━\u001b[0m \u001b[32m1/5\u001b[0m [botocore]\n",
      "\u001b[2K      Successfully uninstalled s3transfer-0.11.3━━━━━━━━━━━━━━\u001b[0m \u001b[32m1/5\u001b[0m [botocore]\n",
      "\u001b[2K  Attempting uninstall: boto3[90m╺\u001b[0m\u001b[90m━━━━━━━━━━━━━━━━━━━━━━━\u001b[0m \u001b[32m2/5\u001b[0m [s3transfer]\n",
      "\u001b[2K    Found existing installation: boto3 1.37.1━━━━━━━━━━━━━━━━━\u001b[0m \u001b[32m2/5\u001b[0m [s3transfer]\n",
      "\u001b[2K    Uninstalling boto3-1.37.1:\u001b[0m\u001b[90m━━━━━━━━━━━━━━━━━━━━━━━\u001b[0m \u001b[32m2/5\u001b[0m [s3transfer]\n",
      "\u001b[2K      Successfully uninstalled boto3-1.37.1━━━━━━━━━━━━━━━━━━━\u001b[0m \u001b[32m2/5\u001b[0m [s3transfer]\n",
      "\u001b[2K  Attempting uninstall: sagemakerm\u001b[90m━━━━━━━━━━━━━━━━━━━━━━━\u001b[0m \u001b[32m2/5\u001b[0m [s3transfer]\n",
      "\u001b[2K    Found existing installation: sagemaker 2.244.0\u001b[0m\u001b[90m━━━━━━━\u001b[0m \u001b[32m4/5\u001b[0m [sagemaker]\n",
      "\u001b[2K    Uninstalling sagemaker-2.244.0:━\u001b[0m\u001b[90m╺\u001b[0m\u001b[90m━━━━━━━\u001b[0m \u001b[32m4/5\u001b[0m [sagemaker]\n",
      "\u001b[2K      Successfully uninstalled sagemaker-2.244.0m╺\u001b[0m\u001b[90m━━━━━━━\u001b[0m \u001b[32m4/5\u001b[0m [sagemaker]\n",
      "\u001b[2K   \u001b[90m━━━━━━━━━━━━━━━━━━━━━━━━━━━━━━━━━━━━━━━━\u001b[0m \u001b[32m5/5\u001b[0m [sagemaker]/5\u001b[0m [sagemaker]\n",
      "\u001b[1A\u001b[2K\u001b[31mERROR: pip's dependency resolver does not currently take into account all the packages that are installed. This behaviour is the source of the following dependency conflicts.\n",
      "autogluon-multimodal 1.3.0 requires nvidia-ml-py3<8.0,>=7.352.0, which is not installed.\n",
      "aiobotocore 2.21.1 requires botocore<1.37.2,>=1.37.0, but you have botocore 1.40.30 which is incompatible.\n",
      "autogluon-multimodal 1.3.0 requires transformers[sentencepiece]<4.50,>=4.38.0, but you have transformers 4.51.3 which is incompatible.\n",
      "autogluon-timeseries 1.3.0 requires coreforecast<0.0.16,>=0.0.12, but you have coreforecast 0.0.16 which is incompatible.\n",
      "autogluon-timeseries 1.3.0 requires transformers[sentencepiece]<4.50,>=4.38.0, but you have transformers 4.51.3 which is incompatible.\n",
      "sagemaker-studio-analytics-extension 0.1.7 requires sparkmagic==0.22.0, but you have sparkmagic 0.21.0 which is incompatible.\n",
      "sparkmagic 0.21.0 requires pandas<2.0.0,>=0.17.1, but you have pandas 2.2.3 which is incompatible.\u001b[0m\u001b[31m\n",
      "\u001b[0mSuccessfully installed attrs-25.3.0 boto3-1.40.30 botocore-1.40.30 s3transfer-0.14.0 sagemaker-2.251.1\n"
     ]
    }
   ],
   "source": [
    "!pip install -U sagemaker"
   ]
  },
  {
   "cell_type": "code",
   "execution_count": null,
   "id": "22025b42",
   "metadata": {},
   "outputs": [],
   "source": [
    "import sagemaker\n",
    "from sagemaker import get_execution_role\n",
    "\n",
    "role = get_execution_role()"
   ]
  },
  {
   "cell_type": "code",
   "execution_count": 3,
   "id": "cbd97c2b-d2c1-49e6-95d3-6200d2ddd357",
   "metadata": {
    "execution": {
     "iopub.execute_input": "2025-09-14T19:35:28.528892Z",
     "iopub.status.busy": "2025-09-14T19:35:28.528504Z",
     "iopub.status.idle": "2025-09-14T19:35:28.533356Z",
     "shell.execute_reply": "2025-09-14T19:35:28.532351Z",
     "shell.execute_reply.started": "2025-09-14T19:35:28.528854Z"
    }
   },
   "outputs": [],
   "source": [
    "region = 'us-east-1'"
   ]
  },
  {
   "cell_type": "code",
   "execution_count": 4,
   "id": "c5fd2f78-fcfd-4545-adb4-5364f3fef60a",
   "metadata": {
    "execution": {
     "iopub.execute_input": "2025-09-14T19:35:28.536921Z",
     "iopub.status.busy": "2025-09-14T19:35:28.536562Z",
     "iopub.status.idle": "2025-09-14T19:35:28.735109Z",
     "shell.execute_reply": "2025-09-14T19:35:28.734352Z",
     "shell.execute_reply.started": "2025-09-14T19:35:28.536877Z"
    }
   },
   "outputs": [],
   "source": [
    "import boto3\n",
    "\n",
    "boto_session = boto3.Session(region_name=region)\n",
    "sagemaker_session = sagemaker.Session(boto_session=boto_session)"
   ]
  },
  {
   "cell_type": "code",
   "execution_count": 5,
   "id": "3bc77039-4555-4d17-b45b-860df013c2cf",
   "metadata": {
    "execution": {
     "iopub.execute_input": "2025-09-14T19:35:28.736628Z",
     "iopub.status.busy": "2025-09-14T19:35:28.736134Z",
     "iopub.status.idle": "2025-09-14T19:35:29.004358Z",
     "shell.execute_reply": "2025-09-14T19:35:29.002766Z",
     "shell.execute_reply.started": "2025-09-14T19:35:28.736597Z"
    }
   },
   "outputs": [],
   "source": [
    "s3_bucket = sagemaker_session.default_bucket()\n",
    "s3_folder = \"Mistral-7B-v0.1_DPO\"\n",
    "output_dir = \"/checkpoints/dpo\"\n",
    "max_seq_len = 2048\n",
    "path = \"re_sft_alignment\"\n",
    "wandb_project = \"Mistral-7B-v0.1_DPO\""
   ]
  },
  {
   "cell_type": "code",
   "execution_count": 6,
   "id": "2b6f4679-f6ab-4acd-ad58-dd1ff147e68d",
   "metadata": {
    "execution": {
     "iopub.execute_input": "2025-09-14T19:35:29.005989Z",
     "iopub.status.busy": "2025-09-14T19:35:29.005416Z",
     "iopub.status.idle": "2025-09-14T19:35:29.262991Z",
     "shell.execute_reply": "2025-09-14T19:35:29.262279Z",
     "shell.execute_reply.started": "2025-09-14T19:35:29.005954Z"
    }
   },
   "outputs": [],
   "source": [
    "secrets = boto3.client(\"secretsmanager\")\n",
    "hf_token = secrets.get_secret_value(SecretId=\"hf_token\")[\"SecretString\"]\n",
    "wandb_api_key = secrets.get_secret_value(SecretId=\"wandb_api_key\")[\"SecretString\"]"
   ]
  },
  {
   "cell_type": "code",
   "execution_count": null,
   "id": "c699c3a5-8cd1-4773-aaa5-bca3e5a42c58",
   "metadata": {
    "execution": {
     "iopub.execute_input": "2025-09-14T19:36:58.279935Z",
     "iopub.status.busy": "2025-09-14T19:36:58.279660Z",
     "iopub.status.idle": "2025-09-14T19:36:58.319631Z",
     "shell.execute_reply": "2025-09-14T19:36:58.318899Z",
     "shell.execute_reply.started": "2025-09-14T19:36:58.279913Z"
    }
   },
   "outputs": [],
   "source": [
    "from sagemaker.pytorch.estimator import PyTorch\n",
    "\n",
    "estimator = PyTorch(\n",
    "    entry_point='train_dpo.py',\n",
    "    source_dir=f'{path}',\n",
    "    role=role,\n",
    "    instance_count=2,\n",
    "    instance_type='ml.g5.xlarge',\n",
    "    output_path=f's3://{s3_bucket}/{s3_folder}/sagemaker_output/',\n",
    "    checkpoint_s3_uri=f\"s3://{s3_bucket}/{s3_folder}/checkpoints\",\n",
    "    checkpoint_local_path=output_dir,\n",
    "    dependencies=[],\n",
    "    distribution={\n",
    "        \"torch_distributed\": {\n",
    "            \"enabled\": True,\n",
    "            \"processes_per_host\": 1,     # 1 GPU on each host\n",
    "        }\n",
    "    },\n",
    "    environment={\n",
    "        \"HUGGINGFACE_HUB_TOKEN\": hf_token,\n",
    "        \"HF_HUB_DISABLE_TELEMETRY\": \"1\",\n",
    "        \"WANDB_API_KEY\": wandb_api_key,\n",
    "        \"HF_HUB_ENABLE_HF_TRANSFER\": \"0\",\n",
    "        \"HF_HOME\": \"/tmp/.cache/huggingface\",\n",
    "        \"HYDRA_FULL_ERROR\": \"1\",\n",
    "    },\n",
    "    hyperparameters={\n",
    "    },\n",
    "    py_version='py311',\n",
    "    framework_version='2.3.0',\n",
    "    # enable_sagemaker_metrics=True,\n",
    ")"
   ]
  },
  {
   "cell_type": "code",
   "execution_count": null,
   "id": "61db2cb1-5809-493a-9636-c4e93babf4e0",
   "metadata": {},
   "outputs": [],
   "source": [
    "estimator.fit()"
   ]
  }
 ],
 "metadata": {
  "kernelspec": {
   "display_name": "Python 3 (ipykernel)",
   "language": "python",
   "name": "python3"
  },
  "language_info": {
   "codemirror_mode": {
    "name": "ipython",
    "version": 3
   },
   "file_extension": ".py",
   "mimetype": "text/x-python",
   "name": "python",
   "nbconvert_exporter": "python",
   "pygments_lexer": "ipython3",
   "version": "3.12.9"
  }
 },
 "nbformat": 4,
 "nbformat_minor": 5
}
